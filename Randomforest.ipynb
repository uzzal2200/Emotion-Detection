{
 "cells": [
  {
   "cell_type": "code",
   "execution_count": 118,
   "metadata": {},
   "outputs": [],
   "source": [
    "import numpy as np  # For numerical operations\n",
    "import cv2  # OpenCV for image processing\n",
    "import os  # For handling file paths\n",
    "from sklearn.model_selection import train_test_split  # To split the dataset\n",
    "from sklearn.metrics import classification_report, confusion_matrix, accuracy_score  # Model evaluation\n",
    "from sklearn.decomposition import PCA  # Dimensionality reduction\n",
    "from sklearn.preprocessing import LabelEncoder  # Encode emotion labels\n",
    "from sklearn import svm  # Support Vector Machine\n",
    "import matplotlib.pyplot as plt  # Visualization"
   ]
  },
  {
   "cell_type": "code",
   "execution_count": 119,
   "metadata": {},
   "outputs": [],
   "source": [
    "# Function to load and preprocess images from the dataset\n",
    "def load_images_from_folder(folder_path):\n",
    "    images = []\n",
    "    labels = []\n",
    "    for emotion_label in os.listdir(folder_path):  # Loop through emotion folders\n",
    "        emotion_folder = os.path.join(folder_path, emotion_label)\n",
    "        if os.path.isdir(emotion_folder):\n",
    "            for img_file in os.listdir(emotion_folder):  # Loop through images\n",
    "                img_path = os.path.join(emotion_folder, img_file)\n",
    "                img = cv2.imread(img_path, cv2.IMREAD_GRAYSCALE)  # Load image in grayscale\n",
    "                if img is not None:\n",
    "                    img_resized = cv2.resize(img, (48, 48))  # Resize image to 48x48\n",
    "                    images.append(img_resized.flatten())  # Flatten to 1D array\n",
    "                    labels.append(emotion_label)  # Use folder name as label\n",
    "    return images, labels"
   ]
  },
  {
   "cell_type": "code",
   "execution_count": 120,
   "metadata": {},
   "outputs": [],
   "source": [
    "# Path to CK+48 dataset (adjust according to your local directory)\n",
    "dataset_folder = r\"D:\\Reserach\\svm3\\CK+48\""
   ]
  },
  {
   "cell_type": "code",
   "execution_count": 121,
   "metadata": {},
   "outputs": [],
   "source": [
    "# Load the full dataset\n",
    "X, y = load_images_from_folder(dataset_folder)"
   ]
  },
  {
   "cell_type": "code",
   "execution_count": null,
   "metadata": {},
   "outputs": [],
   "source": []
  },
  {
   "cell_type": "code",
   "execution_count": null,
   "metadata": {},
   "outputs": [],
   "source": []
  },
  {
   "cell_type": "code",
   "execution_count": 122,
   "metadata": {},
   "outputs": [],
   "source": [
    "# Convert to numpy arrays and normalize pixel values\n",
    "X = np.array(X) / 255.0\n",
    "y = np.array(y)\n"
   ]
  },
  {
   "cell_type": "code",
   "execution_count": 123,
   "metadata": {},
   "outputs": [],
   "source": [
    "# Split the data into training and testing sets (80% training, 20% testing)\n",
    "X_train, X_test, y_train, y_test = train_test_split(X, y, test_size=0.2, random_state=42, stratify=y)\n"
   ]
  },
  {
   "cell_type": "code",
   "execution_count": 124,
   "metadata": {},
   "outputs": [],
   "source": [
    "# Encode emotion labels\n",
    "label_encoder = LabelEncoder()\n",
    "y_train_encoded = label_encoder.fit_transform(y_train)\n",
    "y_test_encoded = label_encoder.transform(y_test)"
   ]
  },
  {
   "cell_type": "code",
   "execution_count": 125,
   "metadata": {},
   "outputs": [],
   "source": [
    "# Apply PCA for dimensionality reduction\n",
    "pca = PCA(n_components=100)\n",
    "X_train_pca = pca.fit_transform(X_train)\n",
    "X_test_pca = pca.transform(X_test)"
   ]
  },
  {
   "cell_type": "code",
   "execution_count": 126,
   "metadata": {},
   "outputs": [],
   "source": [
    "from sklearn.ensemble import RandomForestClassifier\n",
    "\n",
    "model = RandomForestClassifier(n_estimators=100, random_state=42)\n",
    "model.fit(X_train_pca, y_train_encoded)\n",
    "\n",
    "# Predict on the test set\n",
    "y_pred = model.predict(X_test_pca)"
   ]
  },
  {
   "cell_type": "code",
   "execution_count": 127,
   "metadata": {},
   "outputs": [],
   "source": [
    "sc=model.score(X_train_pca,y_train_encoded)"
   ]
  },
  {
   "cell_type": "code",
   "execution_count": 128,
   "metadata": {},
   "outputs": [],
   "source": [
    "accuracy = accuracy_score(y_test_encoded,y_pred)"
   ]
  },
  {
   "cell_type": "code",
   "execution_count": 129,
   "metadata": {},
   "outputs": [
    {
     "name": "stdout",
     "output_type": "stream",
     "text": [
      "Test Accuracy: 97.46%\n",
      "Training Score: 100.00%\n",
      "\n",
      "Classification Report:\n",
      "              precision    recall  f1-score   support\n",
      "\n",
      "       anger       1.00      0.96      0.98        27\n",
      "    contempt       1.00      1.00      1.00        11\n",
      "     disgust       1.00      0.91      0.96        35\n",
      "        fear       1.00      1.00      1.00        15\n",
      "       happy       0.93      1.00      0.97        42\n",
      "     sadness       0.94      0.94      0.94        17\n",
      "    surprise       0.98      1.00      0.99        50\n",
      "\n",
      "    accuracy                           0.97       197\n",
      "   macro avg       0.98      0.97      0.98       197\n",
      "weighted avg       0.98      0.97      0.97       197\n",
      "\n",
      "\n",
      "Confusion Matrix:\n",
      "[[26  0  0  0  0  1  0]\n",
      " [ 0 11  0  0  0  0  0]\n",
      " [ 0  0 32  0  3  0  0]\n",
      " [ 0  0  0 15  0  0  0]\n",
      " [ 0  0  0  0 42  0  0]\n",
      " [ 0  0  0  0  0 16  1]\n",
      " [ 0  0  0  0  0  0 50]]\n"
     ]
    }
   ],
   "source": [
    "# Evaluate the model\n",
    "print(f\"Test Accuracy: {accuracy * 100:.2f}%\")\n",
    "print(f\"Training Score: {sc * 100:.2f}%\")\n",
    "print(\"\\nClassification Report:\")\n",
    "print(classification_report(y_test_encoded, y_pred, target_names=label_encoder.classes_))\n",
    "\n",
    "print(\"\\nConfusion Matrix:\")\n",
    "print(confusion_matrix(y_test_encoded, y_pred))"
   ]
  },
  {
   "cell_type": "code",
   "execution_count": 130,
   "metadata": {},
   "outputs": [
    {
     "data": {
      "image/png": "[encoded data removed]",
      "text/plain": [
       "<Figure size 400x200 with 2 Axes>"
      ]
     },
     "metadata": {},
     "output_type": "display_data"
    }
   ],
   "source": [
    "import matplotlib.pyplot as plt  # Visualization\n",
    "\n",
    "emotions_to_display = ['happy']\n",
    "displayed_emotions = {emotion: 0 for emotion in emotions_to_display}  # Track displayed images\n",
    "num_per_emotion = 1  # Number of images to display per emotion\n",
    "\n",
    "# Create a list to store the subplots for each emotion\n",
    "all_images = []\n",
    "\n",
    "# Iterate over the test set\n",
    "for i in range(len(X_test)):\n",
    "    true_label = label_encoder.inverse_transform([y_test_encoded[i]])[0]\n",
    "    pred_label = label_encoder.inverse_transform([y_pred[i]])[0]\n",
    "\n",
    "    # Check if we need to display this emotion\n",
    "    if true_label in emotions_to_display and displayed_emotions[true_label] < num_per_emotion:\n",
    "        # Store the images and labels for later plotting\n",
    "        all_images.append((X_test[i], true_label, pred_label))\n",
    "        displayed_emotions[true_label] += 1\n",
    "\n",
    "    # Stop once all emotions have been displayed\n",
    "    if all(count >= num_per_emotion for count in displayed_emotions.values()):\n",
    "        break\n",
    "\n",
    "# Create a figure for displaying the images\n",
    "fig, axes = plt.subplots(\n",
    "    1, \n",
    "    num_per_emotion * 2, \n",
    "    figsize=(4, 2)  # Larger figure size for clarity\n",
    ")\n",
    "\n",
    "# Ensure `axes` is iterable\n",
    "if num_per_emotion * 2 == 1:\n",
    "    axes = [axes]  # Wrap single subplot in a list\n",
    "\n",
    "# Display the images\n",
    "for col, (image, true_label, pred_label) in enumerate(all_images):\n",
    "    # Actual image\n",
    "    ax_actual = axes[col * 2]\n",
    "    ax_actual.imshow(image.reshape(48, 48), cmap='gray')\n",
    "    ax_actual.set_title(f\"Actual: {true_label}\")\n",
    "    ax_actual.axis('off')\n",
    "\n",
    "    # Predicted image\n",
    "    ax_pred = axes[col * 2 + 1]\n",
    "    ax_pred.imshow(image.reshape(48, 48), cmap='gray')\n",
    "    ax_pred.set_title(f\"Predicted: {pred_label}\")\n",
    "    ax_pred.axis('off')\n",
    "\n",
    "plt.tight_layout()\n",
    "plt.show()"
   ]
  }
 ],
 "metadata": {
  "kernelspec": {
   "display_name": "Python 3",
   "language": "python",
   "name": "python3"
  },
  "language_info": {
   "codemirror_mode": {
    "name": "ipython",
    "version": 3
   },
   "file_extension": ".py",
   "mimetype": "text/x-python",
   "name": "python",
   "nbconvert_exporter": "python",
   "pygments_lexer": "ipython3",
   "version": "3.12.7"
  }
 },
 "nbformat": 4,
 "nbformat_minor": 2
}
